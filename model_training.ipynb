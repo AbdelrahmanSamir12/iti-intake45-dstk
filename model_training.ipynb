{
 "cells": [
  {
   "cell_type": "code",
   "execution_count": 1,
   "metadata": {},
   "outputs": [],
   "source": [
    "import pandas as pd"
   ]
  },
  {
   "cell_type": "code",
   "execution_count": 2,
   "metadata": {},
   "outputs": [],
   "source": [
    "# loading data\n",
    "df = pd.read_csv(\"attrition_data.csv\")\n",
    "\n",
    "# shuffle the data\n",
    "df = df.sample(frac=1).reset_index(drop=True)"
   ]
  },
  {
   "cell_type": "code",
   "execution_count": 3,
   "metadata": {},
   "outputs": [
    {
     "name": "stdout",
     "output_type": "stream",
     "text": [
      "<class 'pandas.core.frame.DataFrame'>\n",
      "RangeIndex: 1470 entries, 0 to 1469\n",
      "Data columns (total 35 columns):\n",
      " #   Column                    Non-Null Count  Dtype \n",
      "---  ------                    --------------  ----- \n",
      " 0   Age                       1470 non-null   int64 \n",
      " 1   Attrition                 1470 non-null   object\n",
      " 2   BusinessTravel            1470 non-null   object\n",
      " 3   DailyRate                 1470 non-null   int64 \n",
      " 4   Department                1470 non-null   object\n",
      " 5   DistanceFromHome          1470 non-null   int64 \n",
      " 6   Education                 1470 non-null   int64 \n",
      " 7   EducationField            1470 non-null   object\n",
      " 8   EmployeeCount             1470 non-null   int64 \n",
      " 9   EmployeeNumber            1470 non-null   int64 \n",
      " 10  EnvironmentSatisfaction   1470 non-null   int64 \n",
      " 11  Gender                    1470 non-null   object\n",
      " 12  HourlyRate                1470 non-null   int64 \n",
      " 13  JobInvolvement            1470 non-null   int64 \n",
      " 14  JobLevel                  1470 non-null   int64 \n",
      " 15  JobRole                   1470 non-null   object\n",
      " 16  JobSatisfaction           1470 non-null   int64 \n",
      " 17  MaritalStatus             1470 non-null   object\n",
      " 18  MonthlyIncome             1470 non-null   int64 \n",
      " 19  MonthlyRate               1470 non-null   int64 \n",
      " 20  NumCompaniesWorked        1470 non-null   int64 \n",
      " 21  Over18                    1470 non-null   object\n",
      " 22  OverTime                  1470 non-null   object\n",
      " 23  PercentSalaryHike         1470 non-null   int64 \n",
      " 24  PerformanceRating         1470 non-null   int64 \n",
      " 25  RelationshipSatisfaction  1470 non-null   int64 \n",
      " 26  StandardHours             1470 non-null   int64 \n",
      " 27  StockOptionLevel          1470 non-null   int64 \n",
      " 28  TotalWorkingYears         1470 non-null   int64 \n",
      " 29  TrainingTimesLastYear     1470 non-null   int64 \n",
      " 30  WorkLifeBalance           1470 non-null   int64 \n",
      " 31  YearsAtCompany            1470 non-null   int64 \n",
      " 32  YearsInCurrentRole        1470 non-null   int64 \n",
      " 33  YearsSinceLastPromotion   1470 non-null   int64 \n",
      " 34  YearsWithCurrManager      1470 non-null   int64 \n",
      "dtypes: int64(26), object(9)\n",
      "memory usage: 402.1+ KB\n",
      "None\n"
     ]
    }
   ],
   "source": [
    "# take a look at columns to:\n",
    "# 1- find the primary key col(s)\n",
    "# 2- find the target col(s)\n",
    "# 3- find non production cols\n",
    "\n",
    "print(df.info())"
   ]
  },
  {
   "cell_type": "code",
   "execution_count": 6,
   "metadata": {},
   "outputs": [],
   "source": [
    "# 1- primary key col: \n",
    "primary_key_col = \"EmployeeNumber\"\n",
    "# it doesn't contribute anything. It will be yeeted\n",
    "df = df.drop(primary_key_col, axis=1)\n",
    "\n",
    "# 2- target col\n",
    "target_col = \"Attrition\"\n",
    "\n",
    "# 3- non production col: none"
   ]
  },
  {
   "cell_type": "code",
   "execution_count": null,
   "metadata": {},
   "outputs": [],
   "source": [
    "# chi-squared independence test\n",
    "from scipy.stats import chi2_contingency\n",
    "\n",
    "# Create a contingency table\n",
    "contingency_table = pd.crosstab(df_train[target_col], df_train[sample_categorical_col])\n",
    "\n",
    "# Perform Chi-Square test\n",
    "chi2, p, dof, expected = chi2_contingency(contingency_table)"
   ]
  },
  {
   "cell_type": "code",
   "execution_count": null,
   "metadata": {},
   "outputs": [],
   "source": [
    "# train test split\n",
    "from sklearn.model_selection import train_test_split, BaseCrossValidator\n",
    "\n",
    "X = df.drop(target_col, axis=1)\n",
    "y = df[target_col]\n",
    "\n",
    "# dividing into train and val_test together\n",
    "X_train, X_val_test, y_train, y_val_test = train_test_split(\n",
    "    X, y, test_size=(0.1 + 0.1), random_state=42, stratify=y\n",
    ")\n",
    "\n",
    "# diving val_test into val and test separately\n",
    "X_val, X_test, y_val, y_test = train_test_split(\n",
    "    X_val_test, y_val_test, test_size=(0.1 / (0.1 + 0.1)), random_state=42, stratify=y_val_test\n",
    "    )\n",
    "\n",
    "df_train = pd.concat([X_train, y_train], axis=1)\n",
    "df_val = pd.concat([X_val, y_val], axis=1)\n",
    "df_test = pd.concat([X_test, y_test], axis=1)\n",
    "\n",
    "# This is a nice comment."
   ]
  },
  {
   "cell_type": "code",
   "execution_count": null,
   "metadata": {},
   "outputs": [],
   "source": [
    "# pretty print the dataframe\n",
    "print(df_train)\n",
    "\n",
    "print(len(df_train))"
   ]
  },
  {
   "cell_type": "code",
   "execution_count": 8,
   "metadata": {},
   "outputs": [
    {
     "name": "stdout",
     "output_type": "stream",
     "text": [
      "['No' 'Yes']\n",
      "1176 33 2\n",
      "35.63636363636363\n",
      "25\n",
      "8\n"
     ]
    }
   ],
   "source": [
    "# some EDA\n",
    "\n",
    "# looking at number of rows\n",
    "m, n = X_train.shape\n",
    "C = y_train.nunique()\n",
    "print(y_train.unique())\n",
    "\n",
    "print(m, n, C)\n",
    "print(m / n)\n",
    "\n",
    "# null values\n",
    "# There are no null values\n",
    "\n",
    "# identifying numerical and categorical cols\n",
    "numerical_cols = X_train.select_dtypes(include=[\"number\"]).columns\n",
    "categorical_cols = X_train.select_dtypes(include=[\"object\"]).columns\n",
    "print(len(numerical_cols))\n",
    "print(len(categorical_cols))"
   ]
  },
  {
   "cell_type": "code",
   "execution_count": 9,
   "metadata": {},
   "outputs": [
    {
     "data": {
      "text/plain": [
       "(10.5, 62.5)"
      ]
     },
     "execution_count": 9,
     "metadata": {},
     "output_type": "execute_result"
    }
   ],
   "source": [
    "# outliers\n",
    "\n",
    "sample_numerical_col = \"Age\"\n",
    "\n",
    "summary = df_train[sample_numerical_col].describe()\n",
    "minimum = summary[\"min\"]\n",
    "twenty_fifth = summary['25%']\n",
    "median = summary['50%']\n",
    "seventy_fith = summary['75%']\n",
    "maximum = summary[\"max\"]\n",
    "iqr = seventy_fith - twenty_fifth\n",
    "lower_extreme = twenty_fifth - 1.5 * iqr\n",
    "upper_extreme = seventy_fith + 1.5 * iqr\n",
    "\n",
    "lower_extreme, upper_extreme"
   ]
  },
  {
   "cell_type": "code",
   "execution_count": 13,
   "metadata": {},
   "outputs": [
    {
     "data": {
      "text/plain": [
       "Attrition\n",
       "No     0.838435\n",
       "Yes    0.161565\n",
       "Name: proportion, dtype: float64"
      ]
     },
     "execution_count": 13,
     "metadata": {},
     "output_type": "execute_result"
    }
   ],
   "source": [
    "y_train.value_counts(normalize=True)"
   ]
  },
  {
   "cell_type": "code",
   "execution_count": null,
   "metadata": {},
   "outputs": [
    {
     "name": "stdout",
     "output_type": "stream",
     "text": [
      "Attrition\n",
      "No     0.67\n",
      "Yes    0.33\n",
      "Name: proportion, dtype: float64\n",
      "Attrition\n",
      "No     0.5\n",
      "Yes    0.5\n",
      "Name: proportion, dtype: float64\n"
     ]
    }
   ],
   "source": [
    "# checking for class imbalance\n",
    "round(y_train.value_counts(normalize=True), 2)\n",
    "\n",
    "# addressing class imbalance\n",
    "from imblearn.under_sampling import RandomUnderSampler\n",
    "from imblearn.over_sampling import RandomOverSampler, SMOTE\n",
    "\n",
    "undersampler = RandomUnderSampler(sampling_strategy=0.5, random_state=42)\n",
    "X_under, y_under = undersampler.fit_resample(X_train, y_train)\n",
    "\n",
    "print(round(y_under.value_counts(normalize=True), 2))\n",
    "\n",
    "smote = SMOTE(sampling_strategy='auto', random_state=42)\n",
    "X_over, y_over = smote.fit_resample(X, y)\n",
    "\n",
    "print(round(y_over.value_counts(normalize=True), 2))"
   ]
  },
  {
   "cell_type": "code",
   "execution_count": 11,
   "metadata": {},
   "outputs": [
    {
     "name": "stdout",
     "output_type": "stream",
     "text": [
      "Class Mapping: {'No': 0, 'Yes': 1}\n"
     ]
    }
   ],
   "source": [
    "from sklearn.preprocessing import LabelEncoder\n",
    "\n",
    "label_encoder = LabelEncoder()\n",
    "encoded_labels = label_encoder.fit_transform(y_over)\n",
    "\n",
    "# check if Yes is 1 and No is 0.\n",
    "print(\"Class Mapping:\", dict(zip(label_encoder.classes_, range(len(label_encoder.classes_)))))"
   ]
  },
  {
   "cell_type": "code",
   "execution_count": 14,
   "metadata": {},
   "outputs": [],
   "source": [
    "y_val = label_encoder.transform(y_val)\n",
    "y_test = label_encoder.transform(y_test)"
   ]
  },
  {
   "cell_type": "code",
   "execution_count": 15,
   "metadata": {},
   "outputs": [],
   "source": [
    "categorical_col_indices = [X_train.columns.get_loc(col) for col in categorical_cols]"
   ]
  },
  {
   "cell_type": "code",
   "execution_count": 11,
   "metadata": {},
   "outputs": [],
   "source": [
    "# FP: Model said an employee would be leaving, but the employee is not leaving\n",
    "# FN: Model said the employee would not be leaving, but the employee left\n",
    "\n",
    "# Assuming we're creating a reward system, it would be worse to reward an employee we think is staying\n",
    "# but the employee is actually leaving. so let's try to minimize FN and maximimze recall."
   ]
  },
  {
   "cell_type": "code",
   "execution_count": 16,
   "metadata": {},
   "outputs": [],
   "source": [
    "from catboost import CatBoostClassifier\n",
    "from sklearn.metrics import accuracy_score, roc_auc_score, precision_score, recall_score, f1_score"
   ]
  },
  {
   "cell_type": "code",
   "execution_count": 17,
   "metadata": {},
   "outputs": [
    {
     "name": "stderr",
     "output_type": "stream",
     "text": [
      "d:\\ITI Instructor\\Data Science Toolkit\\code\\venv\\lib\\site-packages\\tqdm\\auto.py:21: TqdmWarning: IProgress not found. Please update jupyter and ipywidgets. See https://ipywidgets.readthedocs.io/en/stable/user_install.html\n",
      "  from .autonotebook import tqdm as notebook_tqdm\n",
      "  3%|▎         | 1/36 [00:01<00:55,  1.58s/it]"
     ]
    },
    {
     "name": "stdout",
     "output_type": "stream",
     "text": [
      "new best recall = 0.5!\n"
     ]
    },
    {
     "name": "stderr",
     "output_type": "stream",
     "text": [
      "  6%|▌         | 2/36 [00:02<00:46,  1.36s/it]"
     ]
    },
    {
     "name": "stdout",
     "output_type": "stream",
     "text": [
      "new best recall = 0.5416666666666666!\n"
     ]
    },
    {
     "name": "stderr",
     "output_type": "stream",
     "text": [
      " 14%|█▍        | 5/36 [00:07<00:45,  1.47s/it]"
     ]
    },
    {
     "name": "stdout",
     "output_type": "stream",
     "text": [
      "new best recall = 0.5833333333333334!\n"
     ]
    },
    {
     "name": "stderr",
     "output_type": "stream",
     "text": [
      " 33%|███▎      | 12/36 [00:18<00:39,  1.63s/it]"
     ]
    },
    {
     "name": "stdout",
     "output_type": "stream",
     "text": [
      "new best recall = 0.625!\n"
     ]
    },
    {
     "name": "stderr",
     "output_type": "stream",
     "text": [
      "100%|██████████| 36/36 [02:20<00:00,  3.89s/it]\n"
     ]
    }
   ],
   "source": [
    "from tqdm.auto import tqdm\n",
    "from itertools import product\n",
    "\n",
    "# iterations = [100, 300, 500]\n",
    "# learning_rate = [0.01, 0.033, 0.1]\n",
    "# depth = [2, 4, 6, 8, 10]\n",
    "# l2_leaf_reg = [1, 3, 5]\n",
    "\n",
    "iterations = [100, 300, 500]\n",
    "learning_rate = [0.01, 0.033, 0.1]\n",
    "depth = [2, 4]\n",
    "l2_leaf_reg = [1, 3]\n",
    "\n",
    "hps = list(product(iterations, learning_rate, depth, l2_leaf_reg))\n",
    "\n",
    "trained_models = []\n",
    "metrics = []\n",
    "\n",
    "max_recall = 0.0\n",
    "\n",
    "for it, lr, d, l2 in tqdm(hps, total=len(hps)):\n",
    "    model = CatBoostClassifier(\n",
    "        iterations=it,\n",
    "        learning_rate=lr,\n",
    "        depth=d,\n",
    "        l2_leaf_reg=l2,\n",
    "        cat_features=categorical_col_indices,\n",
    "        verbose=0\n",
    "    )\n",
    "    model.fit(X_over, y_over)\n",
    "    trained_models.append(model)\n",
    "    y_pred = label_encoder.transform(model.predict(X_val))\n",
    "    recall = recall_score(y_val, y_pred)\n",
    "    if recall > max_recall:\n",
    "        max_recall = recall\n",
    "        print(f\"new best recall = {max_recall}!\")\n",
    "    metrics.append(recall)"
   ]
  },
  {
   "cell_type": "code",
   "execution_count": 19,
   "metadata": {},
   "outputs": [],
   "source": [
    "best_model = trained_models[metrics.index(max(metrics))]"
   ]
  },
  {
   "cell_type": "code",
   "execution_count": 20,
   "metadata": {},
   "outputs": [
    {
     "data": {
      "image/png": "[encoded data removed]",
      "text/plain": [
       "<Figure size 1000x500 with 1 Axes>"
      ]
     },
     "metadata": {},
     "output_type": "display_data"
    }
   ],
   "source": [
    "import matplotlib.pyplot as plt\n",
    "import seaborn as sns\n",
    "\n",
    "feature_importance = best_model.get_feature_importance()\n",
    "feature_names = X_train.columns\n",
    "\n",
    "# Create a DataFrame\n",
    "importance_df = pd.DataFrame({'Feature': feature_names, 'Importance': feature_importance})\n",
    "\n",
    "# Sort by importance\n",
    "importance_df = importance_df.sort_values(by=\"Importance\", ascending=False)\n",
    "\n",
    "# Plot using Seaborn\n",
    "plt.figure(figsize=(10, 5))\n",
    "sns.barplot(x=\"Importance\", y=\"Feature\", data=importance_df)\n",
    "plt.title(\"Feature Importance - CatBoost\")\n",
    "plt.show()"
   ]
  },
  {
   "cell_type": "code",
   "execution_count": 21,
   "metadata": {},
   "outputs": [
    {
     "name": "stdout",
     "output_type": "stream",
     "text": [
      "test data metrics\n",
      "accuracy: 0.8\n",
      "precision: 0.41\n",
      "recall: 0.61\n",
      "f1 score: 0.49\n",
      "auc score: 0.72\n"
     ]
    }
   ],
   "source": [
    "y_pred = label_encoder.transform(best_model.predict(X_test))\n",
    "\n",
    "accuracy = accuracy_score(y_test, y_pred)\n",
    "precision = precision_score(y_test, y_pred)\n",
    "recall = recall_score(y_test, y_pred)\n",
    "f1 = f1_score(y_test, y_pred)\n",
    "auc_score = roc_auc_score(y_test, y_pred)\n",
    "\n",
    "print(\"test data metrics\")\n",
    "print(\"accuracy:\", round(accuracy, 2))\n",
    "print(\"precision:\", round(precision, 2))\n",
    "print(\"recall:\", round(recall, 2))\n",
    "print(\"f1 score:\", round(f1, 2))\n",
    "print(\"auc score:\", round(auc_score, 2))"
   ]
  },
  {
   "cell_type": "code",
   "execution_count": null,
   "metadata": {},
   "outputs": [],
   "source": []
  }
 ],
 "metadata": {
  "kernelspec": {
   "display_name": "venv",
   "language": "python",
   "name": "python3"
  },
  "language_info": {
   "codemirror_mode": {
    "name": "ipython",
    "version": 3
   },
   "file_extension": ".py",
   "mimetype": "text/x-python",
   "name": "python",
   "nbconvert_exporter": "python",
   "pygments_lexer": "ipython3",
   "version": "3.10.11"
  }
 },
 "nbformat": 4,
 "nbformat_minor": 2
}
